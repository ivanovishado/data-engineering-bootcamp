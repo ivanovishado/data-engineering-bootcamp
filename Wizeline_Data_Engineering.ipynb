{
  "nbformat": 4,
  "nbformat_minor": 0,
  "metadata": {
    "colab": {
      "name": "Wizeline Data Engineering.ipynb",
      "provenance": [],
      "collapsed_sections": []
    },
    "kernelspec": {
      "name": "python3",
      "display_name": "Python 3"
    },
    "language_info": {
      "name": "python"
    }
  },
  "cells": [
    {
      "cell_type": "markdown",
      "metadata": {
        "id": "aOcb95bJkROT"
      },
      "source": [
        "# Wizeline Data Engineering Bootcamp Challenge\n",
        "\n",
        "## Considerations\n",
        "\n",
        "Given that the input file's size is ~20 GB, my first approach was to use the [dask](https://github.com/dask/dask) library. `dask` is a `pandas` wrapper that supports slicing big data so it can be processed in machines with \"not so much\" memory.\n",
        "\n",
        "However, I faced many issues when trying to do transformations with the data.\n",
        "\n",
        "So, after reading documentation for a bit, I discovered that using only the necessary columns for analysis helps a lot during processing.\n",
        "\n",
        "Reading the data in chunks also seems like a common practice when dealing with large datasets.\n",
        "\n",
        "**Note**: I'll be using this notebook to deliver my report."
      ]
    },
    {
      "cell_type": "code",
      "metadata": {
        "colab": {
          "base_uri": "https://localhost:8080/"
        },
        "id": "ruDV8u43hQYN",
        "outputId": "8d23b03b-d444-4e28-ca8c-5fcd29d5eade"
      },
      "source": [
        "from google.colab import drive\n",
        "drive.mount('/content/drive')"
      ],
      "execution_count": 1,
      "outputs": [
        {
          "output_type": "stream",
          "name": "stdout",
          "text": [
            "Mounted at /content/drive\n"
          ]
        }
      ]
    },
    {
      "cell_type": "markdown",
      "metadata": {
        "id": "x8g8_BDZln6D"
      },
      "source": [
        "Just taking a look to the sample data to get an idea of how the information could be useful."
      ]
    },
    {
      "cell_type": "code",
      "metadata": {
        "id": "oupm2AI34qet"
      },
      "source": [
        "import pandas as pd"
      ],
      "execution_count": 2,
      "outputs": []
    },
    {
      "cell_type": "code",
      "metadata": {
        "colab": {
          "base_uri": "https://localhost:8080/",
          "height": 521
        },
        "id": "p2OZvSLMlaOy",
        "outputId": "80cf8f13-75c8-43d3-d605-c5885efe16f5"
      },
      "source": [
        "sample_df = pd.read_csv('sample.csv')\n",
        "sample_df.head()"
      ],
      "execution_count": 3,
      "outputs": [
        {
          "output_type": "execute_result",
          "data": {
            "text/html": [
              "<div>\n",
              "<style scoped>\n",
              "    .dataframe tbody tr th:only-of-type {\n",
              "        vertical-align: middle;\n",
              "    }\n",
              "\n",
              "    .dataframe tbody tr th {\n",
              "        vertical-align: top;\n",
              "    }\n",
              "\n",
              "    .dataframe thead th {\n",
              "        text-align: right;\n",
              "    }\n",
              "</style>\n",
              "<table border=\"1\" class=\"dataframe\">\n",
              "  <thead>\n",
              "    <tr style=\"text-align: right;\">\n",
              "      <th></th>\n",
              "      <th>producto</th>\n",
              "      <th>presentacion</th>\n",
              "      <th>marca</th>\n",
              "      <th>categoria</th>\n",
              "      <th>catalogo</th>\n",
              "      <th>precio</th>\n",
              "      <th>fechaRegistro</th>\n",
              "      <th>cadenaComercial</th>\n",
              "      <th>giro</th>\n",
              "      <th>nombreComercial</th>\n",
              "      <th>direccion</th>\n",
              "      <th>estado</th>\n",
              "      <th>municipio</th>\n",
              "      <th>latitud</th>\n",
              "      <th>longitud</th>\n",
              "    </tr>\n",
              "  </thead>\n",
              "  <tbody>\n",
              "    <tr>\n",
              "      <th>0</th>\n",
              "      <td>CUADERNO FORMA ITALIANA</td>\n",
              "      <td>96 HOJAS PASTA DURA. CUADRICULA CHICA</td>\n",
              "      <td>ESTRELLA</td>\n",
              "      <td>MATERIAL ESCOLAR</td>\n",
              "      <td>UTILES ESCOLARES</td>\n",
              "      <td>25.9</td>\n",
              "      <td>2011-05-18 00:00:00.000</td>\n",
              "      <td>ABASTECEDORA LUMEN</td>\n",
              "      <td>PAPELERIAS</td>\n",
              "      <td>ABASTECEDORA LUMEN SUCURSAL VILLA COAPA</td>\n",
              "      <td>CANNES No. 6 ESQ. CANAL DE MIRAMONTES</td>\n",
              "      <td>DISTRITO FEDERAL</td>\n",
              "      <td>TLALPAN</td>\n",
              "      <td>19.29699</td>\n",
              "      <td>-99.125417</td>\n",
              "    </tr>\n",
              "    <tr>\n",
              "      <th>1</th>\n",
              "      <td>CRAYONES</td>\n",
              "      <td>CAJA 12 CERAS. JUMBO. C.B. 201423</td>\n",
              "      <td>CRAYOLA</td>\n",
              "      <td>MATERIAL ESCOLAR</td>\n",
              "      <td>UTILES ESCOLARES</td>\n",
              "      <td>27.5</td>\n",
              "      <td>2011-05-18 00:00:00.000</td>\n",
              "      <td>ABASTECEDORA LUMEN</td>\n",
              "      <td>PAPELERIAS</td>\n",
              "      <td>ABASTECEDORA LUMEN SUCURSAL VILLA COAPA</td>\n",
              "      <td>CANNES No. 6 ESQ. CANAL DE MIRAMONTES</td>\n",
              "      <td>DISTRITO FEDERAL</td>\n",
              "      <td>TLALPAN</td>\n",
              "      <td>19.29699</td>\n",
              "      <td>-99.125417</td>\n",
              "    </tr>\n",
              "    <tr>\n",
              "      <th>2</th>\n",
              "      <td>CRAYONES</td>\n",
              "      <td>CAJA 12 CERAS. TAMANO REGULAR C.B. 201034</td>\n",
              "      <td>CRAYOLA</td>\n",
              "      <td>MATERIAL ESCOLAR</td>\n",
              "      <td>UTILES ESCOLARES</td>\n",
              "      <td>13.9</td>\n",
              "      <td>2011-05-18 00:00:00.000</td>\n",
              "      <td>ABASTECEDORA LUMEN</td>\n",
              "      <td>PAPELERIAS</td>\n",
              "      <td>ABASTECEDORA LUMEN SUCURSAL VILLA COAPA</td>\n",
              "      <td>CANNES No. 6 ESQ. CANAL DE MIRAMONTES</td>\n",
              "      <td>DISTRITO FEDERAL</td>\n",
              "      <td>TLALPAN</td>\n",
              "      <td>19.29699</td>\n",
              "      <td>-99.125417</td>\n",
              "    </tr>\n",
              "    <tr>\n",
              "      <th>3</th>\n",
              "      <td>COLORES DE MADERA</td>\n",
              "      <td>CAJA 12 PIEZAS LARGO. TRIANGULAR. C.B. 640646</td>\n",
              "      <td>PINCELIN</td>\n",
              "      <td>MATERIAL ESCOLAR</td>\n",
              "      <td>UTILES ESCOLARES</td>\n",
              "      <td>46.9</td>\n",
              "      <td>2011-05-18 00:00:00.000</td>\n",
              "      <td>ABASTECEDORA LUMEN</td>\n",
              "      <td>PAPELERIAS</td>\n",
              "      <td>ABASTECEDORA LUMEN SUCURSAL VILLA COAPA</td>\n",
              "      <td>CANNES No. 6 ESQ. CANAL DE MIRAMONTES</td>\n",
              "      <td>DISTRITO FEDERAL</td>\n",
              "      <td>TLALPAN</td>\n",
              "      <td>19.29699</td>\n",
              "      <td>-99.125417</td>\n",
              "    </tr>\n",
              "    <tr>\n",
              "      <th>4</th>\n",
              "      <td>COLOR LARGO</td>\n",
              "      <td>CAJA 36 PIEZAS. CON SACAPUNTAS. 68-4036</td>\n",
              "      <td>CRAYOLA</td>\n",
              "      <td>MATERIAL ESCOLAR</td>\n",
              "      <td>UTILES ESCOLARES</td>\n",
              "      <td>115.0</td>\n",
              "      <td>2011-05-18 00:00:00.000</td>\n",
              "      <td>ABASTECEDORA LUMEN</td>\n",
              "      <td>PAPELERIAS</td>\n",
              "      <td>ABASTECEDORA LUMEN SUCURSAL VILLA COAPA</td>\n",
              "      <td>CANNES No. 6 ESQ. CANAL DE MIRAMONTES</td>\n",
              "      <td>DISTRITO FEDERAL</td>\n",
              "      <td>TLALPAN</td>\n",
              "      <td>19.29699</td>\n",
              "      <td>-99.125417</td>\n",
              "    </tr>\n",
              "  </tbody>\n",
              "</table>\n",
              "</div>"
            ],
            "text/plain": [
              "                  producto  ...   longitud\n",
              "0  CUADERNO FORMA ITALIANA  ... -99.125417\n",
              "1                 CRAYONES  ... -99.125417\n",
              "2                 CRAYONES  ... -99.125417\n",
              "3        COLORES DE MADERA  ... -99.125417\n",
              "4              COLOR LARGO  ... -99.125417\n",
              "\n",
              "[5 rows x 15 columns]"
            ]
          },
          "metadata": {},
          "execution_count": 3
        }
      ]
    },
    {
      "cell_type": "markdown",
      "metadata": {
        "id": "h93RwkzFl36H"
      },
      "source": [
        "`dask` had some issues with .zip files, but fortunately, `pandas` doesn't have that problem, so I don't have to upload this huge file to my Drive.\n",
        "\n",
        "Before loading the dataset, with a bit of help of the sample dataset, we could infer the columns that could be useful to answer the required questions."
      ]
    },
    {
      "cell_type": "code",
      "metadata": {
        "id": "0Gd7-YEYoN6D"
      },
      "source": [
        "useful_cols = ['producto', 'cadenaComercial', 'estado', 'fechaRegistro']"
      ],
      "execution_count": 4,
      "outputs": []
    },
    {
      "cell_type": "markdown",
      "metadata": {
        "id": "JUZJXvs7pD4d"
      },
      "source": [
        "**Note**: if you want to reproduce the results, please create a shortcut in your Drive from the original file and update the filepath in the `read_csv` function."
      ]
    },
    {
      "cell_type": "code",
      "metadata": {
        "id": "4FKIGdi-40H1"
      },
      "source": [
        "df = pd.read_csv('/content/drive/MyDrive/WizeDataEngineering/profeco.zip', usecols=useful_cols)"
      ],
      "execution_count": 5,
      "outputs": []
    },
    {
      "cell_type": "markdown",
      "metadata": {
        "id": "em7xDtaup-A0"
      },
      "source": [
        "## 1. How many commercial chains are monitored, and therefore, included in this database?\n",
        "\n",
        "There are 705 commercial chains in this database. To get this number, I used the `value_counts` function in the `cadenaComercial` pd.Series. I also was curious if there was any missing data, but the results are the same before and after the `dropna` execution."
      ]
    },
    {
      "cell_type": "code",
      "metadata": {
        "id": "FfSik5M8r1NR",
        "colab": {
          "base_uri": "https://localhost:8080/"
        },
        "outputId": "9e2ab09b-2414-4c3e-a181-2ea9314e112a"
      },
      "source": [
        "df['cadenaComercial'].value_counts()"
      ],
      "execution_count": 6,
      "outputs": [
        {
          "output_type": "execute_result",
          "data": {
            "text/plain": [
              "WAL-MART                           8643133\n",
              "BODEGA AURRERA                     6765453\n",
              "SORIANA                            6546211\n",
              "MEGA COMERCIAL MEXICANA            4899509\n",
              "CHEDRAUI                           4221625\n",
              "                                    ...   \n",
              "FARMACIA PROVIDENCIA                     7\n",
              "DANIEL S UNIFORMES                       5\n",
              "MUEBLERIA MI CASA                        5\n",
              "PESCADERIA EXPENDIO LOS RUFINOS          4\n",
              "PESCADERIA LA AMISTAD                    1\n",
              "Name: cadenaComercial, Length: 705, dtype: int64"
            ]
          },
          "metadata": {},
          "execution_count": 6
        }
      ]
    },
    {
      "cell_type": "code",
      "metadata": {
        "id": "WinPGNElprh1"
      },
      "source": [
        "df['cadenaComercial'].dropna(inplace=True)"
      ],
      "execution_count": 7,
      "outputs": []
    },
    {
      "cell_type": "code",
      "metadata": {
        "colab": {
          "base_uri": "https://localhost:8080/"
        },
        "id": "VqMpJMiNqaeE",
        "outputId": "866ccdc3-b03d-400c-ce60-d2a43d1b9db2"
      },
      "source": [
        "df['cadenaComercial'].value_counts()"
      ],
      "execution_count": 8,
      "outputs": [
        {
          "output_type": "execute_result",
          "data": {
            "text/plain": [
              "WAL-MART                           8643133\n",
              "BODEGA AURRERA                     6765453\n",
              "SORIANA                            6546211\n",
              "MEGA COMERCIAL MEXICANA            4899509\n",
              "CHEDRAUI                           4221625\n",
              "                                    ...   \n",
              "FARMACIA PROVIDENCIA                     7\n",
              "DANIEL S UNIFORMES                       5\n",
              "MUEBLERIA MI CASA                        5\n",
              "PESCADERIA EXPENDIO LOS RUFINOS          4\n",
              "PESCADERIA LA AMISTAD                    1\n",
              "Name: cadenaComercial, Length: 705, dtype: int64"
            ]
          },
          "metadata": {},
          "execution_count": 8
        }
      ]
    },
    {
      "cell_type": "markdown",
      "metadata": {
        "id": "05D3vat_rOyL"
      },
      "source": [
        "## 2. What are the top 10 monitored products by State?\n",
        "\n",
        "The answer can be found in the `states_info.csv` file."
      ]
    },
    {
      "cell_type": "code",
      "metadata": {
        "id": "f5t1gHlIrQJw"
      },
      "source": [
        "df['producto'].dropna(inplace=True)\n",
        "df['estado'].dropna(inplace=True)"
      ],
      "execution_count": 9,
      "outputs": []
    },
    {
      "cell_type": "code",
      "metadata": {
        "id": "GsPheZkjuZ55",
        "colab": {
          "base_uri": "https://localhost:8080/"
        },
        "outputId": "977ecbd1-b61a-4cba-e0de-380547e7be44"
      },
      "source": [
        "df['estado'].value_counts()"
      ],
      "execution_count": 10,
      "outputs": [
        {
          "output_type": "execute_result",
          "data": {
            "text/plain": [
              "DISTRITO FEDERAL                   11284102\n",
              "MÉXICO                              8173302\n",
              "JALISCO                             4552128\n",
              "NUEVO LEÓN                          3171091\n",
              "GUANAJUATO                          2638456\n",
              "YUCATÁN                             2300994\n",
              "MICHOACÁN DE OCAMPO                 2093037\n",
              "TLAXCALA                            2081024\n",
              "QUINTANA ROO                        2076525\n",
              "PUEBLA                              2021476\n",
              "TABASCO                             1842633\n",
              "SINALOA                             1720736\n",
              "SONORA                              1698620\n",
              "QUERÉTARO                           1667824\n",
              "COAHUILA DE ZARAGOZA                1512473\n",
              "ZACATECAS                           1383201\n",
              "BAJA CALIFORNIA                     1200999\n",
              "TAMAULIPAS                          1170493\n",
              "COLIMA                              1159974\n",
              "OAXACA                              1075420\n",
              "HIDALGO                             1017667\n",
              "BAJA CALIFORNIA SUR                  977128\n",
              "CHIHUAHUA                            919673\n",
              "VERACRUZ DE IGNACIO DE LA LLAVE      690420\n",
              "AGUASCALIENTES                       628576\n",
              "CAMPECHE                             576079\n",
              "DURANGO                              563269\n",
              "SAN LUIS POTOSÍ                      532919\n",
              "CHIAPAS                              527160\n",
              "GUERRERO                             485470\n",
              "NAYARIT                              419547\n",
              "MORELOS                              353225\n",
              "estado                                   20\n",
              "Name: estado, dtype: int64"
            ]
          },
          "metadata": {},
          "execution_count": 10
        }
      ]
    },
    {
      "cell_type": "markdown",
      "metadata": {
        "id": "PDvNU9pzuLGx"
      },
      "source": [
        "After executing `value_counts` once, I found there were some records with only the \"estado\" string, I'm removing them here."
      ]
    },
    {
      "cell_type": "code",
      "metadata": {
        "id": "TQDgCm1Et3V6"
      },
      "source": [
        "df = df[df['estado'] != 'estado']"
      ],
      "execution_count": 11,
      "outputs": []
    },
    {
      "cell_type": "code",
      "metadata": {
        "colab": {
          "base_uri": "https://localhost:8080/"
        },
        "id": "oGjaufpJrVuC",
        "outputId": "876dae0d-4307-4c1a-f64e-e9ceb66c41d5"
      },
      "source": [
        "df['estado'].value_counts()"
      ],
      "execution_count": 12,
      "outputs": [
        {
          "output_type": "execute_result",
          "data": {
            "text/plain": [
              "DISTRITO FEDERAL                   11284102\n",
              "MÉXICO                              8173302\n",
              "JALISCO                             4552128\n",
              "NUEVO LEÓN                          3171091\n",
              "GUANAJUATO                          2638456\n",
              "YUCATÁN                             2300994\n",
              "MICHOACÁN DE OCAMPO                 2093037\n",
              "TLAXCALA                            2081024\n",
              "QUINTANA ROO                        2076525\n",
              "PUEBLA                              2021476\n",
              "TABASCO                             1842633\n",
              "SINALOA                             1720736\n",
              "SONORA                              1698620\n",
              "QUERÉTARO                           1667824\n",
              "COAHUILA DE ZARAGOZA                1512473\n",
              "ZACATECAS                           1383201\n",
              "BAJA CALIFORNIA                     1200999\n",
              "TAMAULIPAS                          1170493\n",
              "COLIMA                              1159974\n",
              "OAXACA                              1075420\n",
              "HIDALGO                             1017667\n",
              "BAJA CALIFORNIA SUR                  977128\n",
              "CHIHUAHUA                            919673\n",
              "VERACRUZ DE IGNACIO DE LA LLAVE      690420\n",
              "AGUASCALIENTES                       628576\n",
              "CAMPECHE                             576079\n",
              "DURANGO                              563269\n",
              "SAN LUIS POTOSÍ                      532919\n",
              "CHIAPAS                              527160\n",
              "GUERRERO                             485470\n",
              "NAYARIT                              419547\n",
              "MORELOS                              353225\n",
              "Name: estado, dtype: int64"
            ]
          },
          "metadata": {},
          "execution_count": 12
        }
      ]
    },
    {
      "cell_type": "code",
      "metadata": {
        "id": "EVZah08JveNn",
        "colab": {
          "base_uri": "https://localhost:8080/"
        },
        "outputId": "fe1c02fc-f735-4da9-9890-5c2af433e8c6"
      },
      "source": [
        "top_products_by_state = pd.concat([\n",
        "  df[df['estado'] == state].groupby(['estado', 'producto'])['producto'].count().nlargest(10)\n",
        "  for state in df['estado'].unique()                                  \n",
        "])\n",
        "\n",
        "top_products_by_state.to_csv('states_info.csv')\n",
        "\n",
        "# We can take a look to the first 15 items by state.\n",
        "# For the full list, go to the file created in the previous line.\n",
        "top_products_by_state.head(15)"
      ],
      "execution_count": 13,
      "outputs": [
        {
          "output_type": "execute_result",
          "data": {
            "text/plain": [
              "estado            producto               \n",
              "DISTRITO FEDERAL  REFRESCO                   287463\n",
              "                  FUD                        207569\n",
              "                  LECHE ULTRAPASTEURIZADA    175640\n",
              "                  DETERGENTE P/ROPA          173452\n",
              "                  YOGHURT                    136720\n",
              "                  CERVEZA                    136686\n",
              "                  MAYONESA                   131103\n",
              "                  CHILES EN LATA             130598\n",
              "                  JABON DE TOCADOR           129889\n",
              "                  SHAMPOO                    125603\n",
              "MÉXICO            REFRESCO                   194939\n",
              "                  FUD                        149141\n",
              "                  DETERGENTE P/ROPA          132862\n",
              "                  LECHE ULTRAPASTEURIZADA    116522\n",
              "                  JABON DE TOCADOR            97330\n",
              "Name: producto, dtype: int64"
            ]
          },
          "metadata": {},
          "execution_count": 13
        }
      ]
    },
    {
      "cell_type": "markdown",
      "metadata": {
        "id": "62h6PWw0ylr-"
      },
      "source": [
        "## 3. Which is the commercial chain with the highest number of monitored products?\n",
        "\n",
        "It's Wal-Mart with 8643133 products."
      ]
    },
    {
      "cell_type": "code",
      "metadata": {
        "colab": {
          "base_uri": "https://localhost:8080/"
        },
        "id": "YCEx-GzcynUC",
        "outputId": "43ae1987-c4bc-473e-be55-9f0e95cddc2b"
      },
      "source": [
        "highest_number_monitored_products = df.groupby('cadenaComercial')['producto'].count().nlargest(1)\n",
        "highest_number_monitored_products"
      ],
      "execution_count": 14,
      "outputs": [
        {
          "output_type": "execute_result",
          "data": {
            "text/plain": [
              "cadenaComercial\n",
              "WAL-MART    8643133\n",
              "Name: producto, dtype: int64"
            ]
          },
          "metadata": {},
          "execution_count": 14
        }
      ]
    },
    {
      "cell_type": "markdown",
      "metadata": {
        "id": "hsXj1eUY3tlq"
      },
      "source": [
        "## 4. Use the data to find an interesting fact.\n",
        "\n",
        "I was curious to see what the most sold product was per year."
      ]
    },
    {
      "cell_type": "code",
      "metadata": {
        "colab": {
          "base_uri": "https://localhost:8080/"
        },
        "id": "3tL446qt3rp1",
        "outputId": "f1419cc0-ccad-4c9d-9419-fa82ec8c599f"
      },
      "source": [
        "df['fechaRegistro'] = pd.to_datetime(df['fechaRegistro'], errors='coerce')\n",
        "df['fechaRegistro'].dropna(inplace=True)\n",
        "df['year'] = df['fechaRegistro'].dt.year.astype('Int64')\n",
        "\n",
        "top_product_by_year = pd.concat([\n",
        "  df[df['year'] == year].groupby(['year', 'producto'])['producto'].count().nlargest(1)\n",
        "  for year in range(df['year'].min(), df['year'].max())\n",
        "])\n",
        "top_product_by_year"
      ],
      "execution_count": 15,
      "outputs": [
        {
          "output_type": "execute_result",
          "data": {
            "text/plain": [
              "year  producto         \n",
              "2011  DETERGENTE P/ROPA    155874\n",
              "2012  DETERGENTE P/ROPA    167878\n",
              "2013  REFRESCO             182415\n",
              "2014  REFRESCO             282878\n",
              "2015  REFRESCO             370494\n",
              "Name: producto, dtype: int64"
            ]
          },
          "metadata": {},
          "execution_count": 15
        }
      ]
    },
    {
      "cell_type": "markdown",
      "metadata": {
        "id": "hW9AcSK33u5-"
      },
      "source": [
        "## 5. What are the lessons learned from this exercise?\n",
        "\n",
        "Definitely that managing large amounts of data's not trivial task. One must find creative ways in how to process the information when the resources are not optimal. For example, we wouldn't have to worry about `groupby` operations if we had infinite memory at our disposal, instead we need to figure out how to handle such operations so we can experiment with the hypothesis we formulate."
      ]
    },
    {
      "cell_type": "markdown",
      "metadata": {
        "id": "7CQwnd5g3xzn"
      },
      "source": [
        "## 6. Can you identify other ways to approach this problem? Explain.\n",
        "\n",
        "I was thinking that maybe all the processing could be done by a data warehouse, probably something like BigQuery, so that we only need to worry about how to send the queries to it and get the results backed by the huge infrastructure it has behind."
      ]
    }
  ]
}